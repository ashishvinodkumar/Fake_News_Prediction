{
 "cells": [
  {
   "cell_type": "code",
   "execution_count": 2,
   "metadata": {
    "colab": {
     "base_uri": "https://localhost:8080/"
    },
    "executionInfo": {
     "elapsed": 3942,
     "status": "ok",
     "timestamp": 1605107865233,
     "user": {
      "displayName": "LEON ZHANG",
      "photoUrl": "",
      "userId": "18112728590883338726"
     },
     "user_tz": 300
    },
    "id": "JM2KyE-Z6GVC",
    "outputId": "12ff42a7-0157-4972-95e3-00707ba5adae"
   },
   "outputs": [
    {
     "name": "stdout",
     "output_type": "stream",
     "text": [
      "Correct version of Tensorflow installed.\n"
     ]
    }
   ],
   "source": [
    "# First we import the required libraries\n",
    "import tensorflow as tf\n",
    "import random\n",
    "import numpy as np\n",
    "import pandas as pd\n",
    "import matplotlib.image  as mpimg\n",
    "import matplotlib.pyplot as plt\n",
    "import io\n",
    "import nltk\n",
    "from nltk.corpus import stopwords\n",
    "\n",
    "from sklearn.model_selection import train_test_split\n",
    "from sklearn.preprocessing import LabelEncoder\n",
    "from sklearn.utils import shuffle\n",
    "from tensorflow.keras.preprocessing.text import Tokenizer\n",
    "from tensorflow.keras.preprocessing.sequence import pad_sequences\n",
    "from tensorflow.keras.utils import to_categorical\n",
    "from tensorflow.keras import regularizers\n",
    "from tensorflow.keras import backend as K \n",
    "from tensorflow.keras.callbacks import ModelCheckpoint, ReduceLROnPlateau\n",
    "from keras.utils import np_utils\n",
    "K.clear_session()\n",
    "\n",
    "# Check tensorflow version\n",
    "if float(tf.__version__[0]) < 2.0:\n",
    "  print('Updating tensorflow')\n",
    "  !pip install tensorflow==2.0\n",
    "else:\n",
    "  print('Correct version of Tensorflow installed.')"
   ]
  },
  {
   "cell_type": "code",
   "execution_count": 4,
   "metadata": {
    "colab": {
     "base_uri": "https://localhost:8080/"
    },
    "executionInfo": {
     "elapsed": 22111,
     "status": "ok",
     "timestamp": 1605107886420,
     "user": {
      "displayName": "LEON ZHANG",
      "photoUrl": "",
      "userId": "18112728590883338726"
     },
     "user_tz": 300
    },
    "id": "Mu3F5A2B6XwN",
    "outputId": "f9998733-17d5-4f28-8b58-868386b692b5"
   },
   "outputs": [],
   "source": [
    "# Connect to Google Drive \n",
    "# Upload the dataset to your Google drive so it can be loaded here\n",
    "\n",
    "# from google.colab import drive\n",
    "# drive.mount('/content/gdrive')"
   ]
  },
  {
   "cell_type": "code",
   "execution_count": 5,
   "metadata": {
    "colab": {
     "base_uri": "https://localhost:8080/"
    },
    "executionInfo": {
     "elapsed": 2474,
     "status": "ok",
     "timestamp": 1605107892062,
     "user": {
      "displayName": "LEON ZHANG",
      "photoUrl": "",
      "userId": "18112728590883338726"
     },
     "user_tz": 300
    },
    "id": "MNJo1L_D6hRY",
    "outputId": "8c68f3c8-457c-4e19-f697-41b03480111f"
   },
   "outputs": [
    {
     "data": {
      "text/plain": [
       "ID                      10240\n",
       "label                   10240\n",
       "statement               10240\n",
       "subject                 10240\n",
       "speaker                 10240\n",
       "speaker_job             10240\n",
       "state                   10240\n",
       "party                   10240\n",
       "barely_true_counts      10240\n",
       "false_counts            10240\n",
       "half_true_counts        10240\n",
       "mostly_true_counts      10240\n",
       "pants_on_fire_counts    10240\n",
       "venue                   10240\n",
       "dtype: int64"
      ]
     },
     "execution_count": 5,
     "metadata": {},
     "output_type": "execute_result"
    }
   ],
   "source": [
    "df = pd.read_csv('Data/liar_dataset/train.tsv', sep='\\t', header=None)\n",
    "df = df.fillna(' ')\n",
    "df.columns = ['ID', 'label', 'statement', 'subject','speaker',\n",
    "              'speaker_job','state','party','barely_true_counts','false_counts','half_true_counts','mostly_true_counts',\n",
    "             'pants_on_fire_counts','venue']\n",
    "df.count()"
   ]
  },
  {
   "cell_type": "code",
   "execution_count": 6,
   "metadata": {
    "colab": {
     "base_uri": "https://localhost:8080/",
     "height": 585
    },
    "executionInfo": {
     "elapsed": 642,
     "status": "ok",
     "timestamp": 1605107893271,
     "user": {
      "displayName": "LEON ZHANG",
      "photoUrl": "",
      "userId": "18112728590883338726"
     },
     "user_tz": 300
    },
    "id": "poh8hZIJ7YzA",
    "outputId": "88a80a66-3e0f-4499-b47b-6a0552a19534"
   },
   "outputs": [
    {
     "data": {
      "text/html": [
       "<div>\n",
       "<style scoped>\n",
       "    .dataframe tbody tr th:only-of-type {\n",
       "        vertical-align: middle;\n",
       "    }\n",
       "\n",
       "    .dataframe tbody tr th {\n",
       "        vertical-align: top;\n",
       "    }\n",
       "\n",
       "    .dataframe thead th {\n",
       "        text-align: right;\n",
       "    }\n",
       "</style>\n",
       "<table border=\"1\" class=\"dataframe\">\n",
       "  <thead>\n",
       "    <tr style=\"text-align: right;\">\n",
       "      <th></th>\n",
       "      <th>ID</th>\n",
       "      <th>label</th>\n",
       "      <th>statement</th>\n",
       "      <th>subject</th>\n",
       "      <th>speaker</th>\n",
       "      <th>speaker_job</th>\n",
       "      <th>state</th>\n",
       "      <th>party</th>\n",
       "      <th>barely_true_counts</th>\n",
       "      <th>false_counts</th>\n",
       "      <th>half_true_counts</th>\n",
       "      <th>mostly_true_counts</th>\n",
       "      <th>pants_on_fire_counts</th>\n",
       "      <th>venue</th>\n",
       "    </tr>\n",
       "  </thead>\n",
       "  <tbody>\n",
       "    <tr>\n",
       "      <th>0</th>\n",
       "      <td>2635.json</td>\n",
       "      <td>false</td>\n",
       "      <td>Says the Annies List political group supports ...</td>\n",
       "      <td>abortion</td>\n",
       "      <td>dwayne-bohac</td>\n",
       "      <td>State representative</td>\n",
       "      <td>Texas</td>\n",
       "      <td>republican</td>\n",
       "      <td>0</td>\n",
       "      <td>1</td>\n",
       "      <td>0</td>\n",
       "      <td>0</td>\n",
       "      <td>0</td>\n",
       "      <td>a mailer</td>\n",
       "    </tr>\n",
       "    <tr>\n",
       "      <th>1</th>\n",
       "      <td>10540.json</td>\n",
       "      <td>half-true</td>\n",
       "      <td>When did the decline of coal start? It started...</td>\n",
       "      <td>energy,history,job-accomplishments</td>\n",
       "      <td>scott-surovell</td>\n",
       "      <td>State delegate</td>\n",
       "      <td>Virginia</td>\n",
       "      <td>democrat</td>\n",
       "      <td>0</td>\n",
       "      <td>0</td>\n",
       "      <td>1</td>\n",
       "      <td>1</td>\n",
       "      <td>0</td>\n",
       "      <td>a floor speech.</td>\n",
       "    </tr>\n",
       "    <tr>\n",
       "      <th>2</th>\n",
       "      <td>324.json</td>\n",
       "      <td>mostly-true</td>\n",
       "      <td>Hillary Clinton agrees with John McCain \"by vo...</td>\n",
       "      <td>foreign-policy</td>\n",
       "      <td>barack-obama</td>\n",
       "      <td>President</td>\n",
       "      <td>Illinois</td>\n",
       "      <td>democrat</td>\n",
       "      <td>70</td>\n",
       "      <td>71</td>\n",
       "      <td>160</td>\n",
       "      <td>163</td>\n",
       "      <td>9</td>\n",
       "      <td>Denver</td>\n",
       "    </tr>\n",
       "    <tr>\n",
       "      <th>3</th>\n",
       "      <td>1123.json</td>\n",
       "      <td>false</td>\n",
       "      <td>Health care reform legislation is likely to ma...</td>\n",
       "      <td>health-care</td>\n",
       "      <td>blog-posting</td>\n",
       "      <td></td>\n",
       "      <td></td>\n",
       "      <td>none</td>\n",
       "      <td>7</td>\n",
       "      <td>19</td>\n",
       "      <td>3</td>\n",
       "      <td>5</td>\n",
       "      <td>44</td>\n",
       "      <td>a news release</td>\n",
       "    </tr>\n",
       "    <tr>\n",
       "      <th>4</th>\n",
       "      <td>9028.json</td>\n",
       "      <td>half-true</td>\n",
       "      <td>The economic turnaround started at the end of ...</td>\n",
       "      <td>economy,jobs</td>\n",
       "      <td>charlie-crist</td>\n",
       "      <td></td>\n",
       "      <td>Florida</td>\n",
       "      <td>democrat</td>\n",
       "      <td>15</td>\n",
       "      <td>9</td>\n",
       "      <td>20</td>\n",
       "      <td>19</td>\n",
       "      <td>2</td>\n",
       "      <td>an interview on CNN</td>\n",
       "    </tr>\n",
       "  </tbody>\n",
       "</table>\n",
       "</div>"
      ],
      "text/plain": [
       "           ID        label                                          statement  \\\n",
       "0   2635.json        false  Says the Annies List political group supports ...   \n",
       "1  10540.json    half-true  When did the decline of coal start? It started...   \n",
       "2    324.json  mostly-true  Hillary Clinton agrees with John McCain \"by vo...   \n",
       "3   1123.json        false  Health care reform legislation is likely to ma...   \n",
       "4   9028.json    half-true  The economic turnaround started at the end of ...   \n",
       "\n",
       "                              subject         speaker           speaker_job  \\\n",
       "0                            abortion    dwayne-bohac  State representative   \n",
       "1  energy,history,job-accomplishments  scott-surovell        State delegate   \n",
       "2                      foreign-policy    barack-obama             President   \n",
       "3                         health-care    blog-posting                         \n",
       "4                        economy,jobs   charlie-crist                         \n",
       "\n",
       "      state       party barely_true_counts false_counts half_true_counts  \\\n",
       "0     Texas  republican                  0            1                0   \n",
       "1  Virginia    democrat                  0            0                1   \n",
       "2  Illinois    democrat                 70           71              160   \n",
       "3                  none                  7           19                3   \n",
       "4   Florida    democrat                 15            9               20   \n",
       "\n",
       "  mostly_true_counts pants_on_fire_counts                venue  \n",
       "0                  0                    0             a mailer  \n",
       "1                  1                    0      a floor speech.  \n",
       "2                163                    9               Denver  \n",
       "3                  5                   44       a news release  \n",
       "4                 19                    2  an interview on CNN  "
      ]
     },
     "execution_count": 6,
     "metadata": {},
     "output_type": "execute_result"
    }
   ],
   "source": [
    "df.head()"
   ]
  },
  {
   "cell_type": "code",
   "execution_count": 5,
   "metadata": {
    "colab": {
     "base_uri": "https://localhost:8080/"
    },
    "executionInfo": {
     "elapsed": 919,
     "status": "ok",
     "timestamp": 1605107896356,
     "user": {
      "displayName": "LEON ZHANG",
      "photoUrl": "",
      "userId": "18112728590883338726"
     },
     "user_tz": 300
    },
    "id": "tXt0lE53_Gqj",
    "outputId": "7a3c905e-1d16-45a2-98b2-99cbdb48f137"
   },
   "outputs": [
    {
     "name": "stdout",
     "output_type": "stream",
     "text": [
      "[nltk_data] Downloading package stopwords to /root/nltk_data...\n",
      "[nltk_data]   Unzipping corpora/stopwords.zip.\n"
     ]
    }
   ],
   "source": [
    "# Add punctuations support.\n",
    "nltk.download('stopwords')\n",
    "stop_words = set(stopwords.words('english'))\n",
    "stop_words.update('!','\"','#','$','%','&',\"'\",'(',')','*','+',',','-','.','/',':',';','<','=','>','?','@','[','\\\\',']','^','_','`','{','|','}','~')\n",
    "# Add Unicode characters support.\n",
    "for i in range(1000, 1100):\n",
    "    stop_words.update(chr(i))\n",
    "\n",
    "\n",
    "# read in reviews from the NLTK corpora directory\n",
    "statement_col  = []\n",
    "for statement in df['statement']:\n",
    "  cleaned_statement = ''\n",
    "  for word in statement.split():\n",
    "    if word.lower() not in stop_words:\n",
    "      cleaned_statement += word.lower() + ' '\n",
    "      cleaned_statement = cleaned_statement.replace('\\n','')\n",
    "  statement_col.append(cleaned_statement)\n",
    "df['Cleaned Statement'] = statement_col"
   ]
  },
  {
   "cell_type": "code",
   "execution_count": 7,
   "metadata": {
    "colab": {
     "base_uri": "https://localhost:8080/"
    },
    "executionInfo": {
     "elapsed": 969,
     "status": "ok",
     "timestamp": 1605107911164,
     "user": {
      "displayName": "LEON ZHANG",
      "photoUrl": "",
      "userId": "18112728590883338726"
     },
     "user_tz": 300
    },
    "id": "38A-7iOt6oMF",
    "outputId": "9f881d3a-6de2-41f6-8c5a-03212a7c4076"
   },
   "outputs": [
    {
     "name": "stdout",
     "output_type": "stream",
     "text": [
      "Vocab size 12383\n"
     ]
    }
   ],
   "source": [
    "# Tokenize text\n",
    "\n",
    "tokenizer = Tokenizer() # Using keras libary for tokenizing df[text]\n",
    "tokenizer.fit_on_texts(df['Cleaned Statement'])\n",
    "word_index = tokenizer.word_index # Dictionary of all unique words and their counts\n",
    "vocab_size=len(word_index)\n",
    "print('Vocab size', vocab_size) # 238051 unique words in the dataset\n",
    "\n",
    "# Padding data\n",
    "sequences = tokenizer.texts_to_sequences(df['Cleaned Statement']) # list of list\n",
    "# MIGHT CAUSE ISSUE\n",
    "padded = pad_sequences(sequences, maxlen=100, padding='post', truncating='post') # Cap each text to length 500\n",
    "# df['padded'] = ['None']*len(df)\n",
    "# for i,row in df.iterrows():\n",
    "#   row['padded'] = padded[i]"
   ]
  },
  {
   "cell_type": "code",
   "execution_count": 8,
   "metadata": {
    "colab": {
     "base_uri": "https://localhost:8080/"
    },
    "executionInfo": {
     "elapsed": 2254,
     "status": "ok",
     "timestamp": 1605107916513,
     "user": {
      "displayName": "LEON ZHANG",
      "photoUrl": "",
      "userId": "18112728590883338726"
     },
     "user_tz": 300
    },
    "id": "uoBB3Ex96mOR",
    "outputId": "526aba1d-1d25-49e7-99e0-12cc627dd75d"
   },
   "outputs": [
    {
     "name": "stdout",
     "output_type": "stream",
     "text": [
      "class mapping: ['barely-true' 'false' 'half-true' 'mostly-true' 'pants-fire' 'true']\n"
     ]
    }
   ],
   "source": [
    "labels = df['label']\n",
    "# encode class values as integers\n",
    "encoder = LabelEncoder()\n",
    "encoder.fit(labels)\n",
    "encoded_Y = encoder.transform(labels)\n",
    "print('class mapping:', encoder.classes_)\n",
    "# convert integers to dummy variables (i.e. one hot encoded)\n",
    "labels = np_utils.to_categorical(encoded_Y)\n",
    "df['encoded_labels'] = ['None']*len(df)\n",
    "for i,row in df.iterrows():\n",
    "  row['encoded_labels'] = labels[i]"
   ]
  },
  {
   "cell_type": "code",
   "execution_count": 9,
   "metadata": {
    "colab": {
     "base_uri": "https://localhost:8080/"
    },
    "executionInfo": {
     "elapsed": 638,
     "status": "ok",
     "timestamp": 1605107923478,
     "user": {
      "displayName": "LEON ZHANG",
      "photoUrl": "",
      "userId": "18112728590883338726"
     },
     "user_tz": 300
    },
    "id": "sTA9NfdpCPK-",
    "outputId": "adf3c953-a6bc-4db9-b36d-c1ad50eb98e4"
   },
   "outputs": [
    {
     "name": "stdout",
     "output_type": "stream",
     "text": [
      "Pre padding 16\n",
      "Post padding 100\n"
     ]
    }
   ],
   "source": [
    "print('Pre padding',len(sequences[5]))\n",
    "print('Post padding',len(padded[5]))"
   ]
  },
  {
   "cell_type": "code",
   "execution_count": 10,
   "metadata": {
    "executionInfo": {
     "elapsed": 604,
     "status": "ok",
     "timestamp": 1605107926767,
     "user": {
      "displayName": "LEON ZHANG",
      "photoUrl": "",
      "userId": "18112728590883338726"
     },
     "user_tz": 300
    },
    "id": "_8zj0xbi6s96"
   },
   "outputs": [],
   "source": [
    "# Splitting\n",
    "split = 0.2\n",
    "\n",
    "split_n = int(len(df)*0.2)\n",
    "train_data = padded[:split_n]\n",
    "train_labels = labels[:split_n]\n",
    "test_data = padded[split_n:]\n",
    "test_labels = labels[split_n:]\n",
    "\n",
    "#train, test = train_test_split(df, test_size=split, random_state=6)\n",
    "# train_data = train['padded'] # Train data: text\n",
    "# train_labels = train['encoded_labels'] # Train label: fake news or not\n",
    "# test_data = test['padded'] # Test data \n",
    "# test_labels = test['encoded_labels'] # Test label"
   ]
  },
  {
   "cell_type": "code",
   "execution_count": 11,
   "metadata": {
    "colab": {
     "base_uri": "https://localhost:8080/"
    },
    "executionInfo": {
     "elapsed": 16193,
     "status": "ok",
     "timestamp": 1605107946455,
     "user": {
      "displayName": "LEON ZHANG",
      "photoUrl": "",
      "userId": "18112728590883338726"
     },
     "user_tz": 300
    },
    "id": "MVwdnxX66v9b",
    "outputId": "b4e0e20e-dccc-411a-a9e9-b41c2f6d029a"
   },
   "outputs": [
    {
     "name": "stdout",
     "output_type": "stream",
     "text": [
      "--2020-11-11 15:18:50--  https://storage.googleapis.com/laurencemoroney-blog.appspot.com/glove.6B.100d.txt\n",
      "Resolving storage.googleapis.com (storage.googleapis.com)... 64.233.189.128, 108.177.125.128, 74.125.203.128, ...\n",
      "Connecting to storage.googleapis.com (storage.googleapis.com)|64.233.189.128|:443... connected.\n",
      "HTTP request sent, awaiting response... 200 OK\n",
      "Length: 347116733 (331M) [text/plain]\n",
      "Saving to: ‘/tmp/glove.6B.100d.txt’\n",
      "\n",
      "/tmp/glove.6B.100d. 100%[===================>] 331.04M  88.4MB/s    in 3.7s    \n",
      "\n",
      "2020-11-11 15:18:54 (88.4 MB/s) - ‘/tmp/glove.6B.100d.txt’ saved [347116733/347116733]\n",
      "\n",
      "Length of embedding: 100\n"
     ]
    }
   ],
   "source": [
    "# Import tensor representations for words\n",
    "\n",
    "!wget --no-check-certificate \\\n",
    "    https://storage.googleapis.com/laurencemoroney-blog.appspot.com/glove.6B.100d.txt \\\n",
    "    -O /tmp/glove.6B.100d.txt\n",
    "embeddings_index = {}; # Define a dictionary to store the embeddings\n",
    "with open('/tmp/glove.6B.100d.txt') as f:\n",
    "    for line in f:\n",
    "        values = line.split();\n",
    "        word = values[0]; # First index is the word\n",
    "        coefs = np.asarray(values[1:], dtype='float32'); # Rest of them are the embeddings\n",
    "        embeddings_index[word] = coefs; # Create the key value pair\n",
    "print('Length of embedding:', len(coefs)) # Embeddings have lengh 100\n",
    "\n",
    "embeddings_matrix = np.zeros((vocab_size+1, 100)); # Matrix size is row:238051 X column:100\n",
    "for word, i in word_index.items(): # Iterate all unique word in the corpus\n",
    "    embedding_vector = embeddings_index.get(word); # Matches the word in corpus to embedding\n",
    "    if embedding_vector is not None:\n",
    "        embeddings_matrix[i] = embedding_vector; # Build a matrix of each word with embedding"
   ]
  },
  {
   "cell_type": "code",
   "execution_count": 12,
   "metadata": {
    "colab": {
     "base_uri": "https://localhost:8080/"
    },
    "executionInfo": {
     "elapsed": 701,
     "status": "ok",
     "timestamp": 1605108048077,
     "user": {
      "displayName": "LEON ZHANG",
      "photoUrl": "",
      "userId": "18112728590883338726"
     },
     "user_tz": 300
    },
    "id": "ioPFSIVz4-SX",
    "outputId": "49ce5777-07e9-4f41-e3fe-e52b720ca662"
   },
   "outputs": [
    {
     "data": {
      "text/plain": [
       "(100,)"
      ]
     },
     "execution_count": 12,
     "metadata": {
      "tags": []
     },
     "output_type": "execute_result"
    }
   ],
   "source": [
    "train_data[0].shape"
   ]
  },
  {
   "cell_type": "code",
   "execution_count": 13,
   "metadata": {
    "colab": {
     "base_uri": "https://localhost:8080/"
    },
    "executionInfo": {
     "elapsed": 6976,
     "status": "ok",
     "timestamp": 1605108071536,
     "user": {
      "displayName": "LEON ZHANG",
      "photoUrl": "",
      "userId": "18112728590883338726"
     },
     "user_tz": 300
    },
    "id": "z0g__a1v636U",
    "outputId": "a3924d87-9a81-48ee-e939-91bceb4bfe10"
   },
   "outputs": [
    {
     "name": "stdout",
     "output_type": "stream",
     "text": [
      "Model: \"sequential\"\n",
      "_________________________________________________________________\n",
      "Layer (type)                 Output Shape              Param #   \n",
      "=================================================================\n",
      "embedding (Embedding)        (None, None, 100)         1238400   \n",
      "_________________________________________________________________\n",
      "dropout (Dropout)            (None, None, 100)         0         \n",
      "_________________________________________________________________\n",
      "conv1d (Conv1D)              (None, None, 64)          32064     \n",
      "_________________________________________________________________\n",
      "max_pooling1d (MaxPooling1D) (None, None, 64)          0         \n",
      "_________________________________________________________________\n",
      "lstm (LSTM)                  (None, None, 20)          6800      \n",
      "_________________________________________________________________\n",
      "lstm_1 (LSTM)                (None, 20)                3280      \n",
      "_________________________________________________________________\n",
      "dropout_1 (Dropout)          (None, 20)                0         \n",
      "_________________________________________________________________\n",
      "dense (Dense)                (None, 512)               10752     \n",
      "_________________________________________________________________\n",
      "dropout_2 (Dropout)          (None, 512)               0         \n",
      "_________________________________________________________________\n",
      "dense_1 (Dense)              (None, 256)               131328    \n",
      "_________________________________________________________________\n",
      "dense_2 (Dense)              (None, 6)                 1542      \n",
      "=================================================================\n",
      "Total params: 1,424,166\n",
      "Trainable params: 185,766\n",
      "Non-trainable params: 1,238,400\n",
      "_________________________________________________________________\n"
     ]
    }
   ],
   "source": [
    "# Build the architecture of the model\n",
    "\n",
    "lr_reduce = ReduceLROnPlateau(monitor='val_accuracy', factor=0.5, patience=5, verbose=1)\n",
    "early_stopping_cb = tf.keras.callbacks.EarlyStopping(patience=8, restore_best_weights=True)\n",
    "METRICS = ['accuracy']\n",
    "CALLBACKS = [lr_reduce, early_stopping_cb]\n",
    "\n",
    "model = tf.keras.Sequential([\n",
    "    tf.keras.layers.Embedding(vocab_size+1, 100, weights=[embeddings_matrix], trainable=False),\n",
    "    tf.keras.layers.Dropout(0.2), # Regularization to prevent overfitting\n",
    "    tf.keras.layers.Conv1D(64, 5, activation='relu'),\n",
    "    tf.keras.layers.MaxPooling1D(pool_size=4),\n",
    "    tf.keras.layers.LSTM(20, return_sequences=True), # Dimensionality of the output space\n",
    "    tf.keras.layers.LSTM(20),\n",
    "    tf.keras.layers.Dropout(0.2),  \n",
    "    tf.keras.layers.Dense(512),\n",
    "    tf.keras.layers.Dropout(0.3),  \n",
    "    tf.keras.layers.Dense(256),\n",
    "    tf.keras.layers.Dense(6, activation='softmax')\n",
    "])\n",
    "model.compile(loss='categorical_crossentropy',optimizer='adam',metrics=METRICS)\n",
    "model.summary()"
   ]
  },
  {
   "cell_type": "code",
   "execution_count": 14,
   "metadata": {
    "colab": {
     "base_uri": "https://localhost:8080/"
    },
    "executionInfo": {
     "elapsed": 16161,
     "status": "ok",
     "timestamp": 1605108091041,
     "user": {
      "displayName": "LEON ZHANG",
      "photoUrl": "",
      "userId": "18112728590883338726"
     },
     "user_tz": 300
    },
    "id": "fJgFBrnU6_wk",
    "outputId": "36704de6-e6f1-4d4b-c469-4748df3622fb"
   },
   "outputs": [
    {
     "name": "stdout",
     "output_type": "stream",
     "text": [
      "Epoch 1/25\n",
      "17/17 [==============================] - 1s 81ms/step - loss: 1.7759 - accuracy: 0.1856 - val_loss: 1.7739 - val_accuracy: 0.2098\n",
      "Epoch 2/25\n",
      "17/17 [==============================] - 0s 18ms/step - loss: 1.7622 - accuracy: 0.2039 - val_loss: 1.7727 - val_accuracy: 0.2049\n",
      "Epoch 3/25\n",
      "17/17 [==============================] - 0s 18ms/step - loss: 1.7574 - accuracy: 0.2082 - val_loss: 1.7642 - val_accuracy: 0.2195\n",
      "Epoch 4/25\n",
      "17/17 [==============================] - 0s 18ms/step - loss: 1.7465 - accuracy: 0.2186 - val_loss: 1.7523 - val_accuracy: 0.2244\n",
      "Epoch 5/25\n",
      "17/17 [==============================] - 0s 18ms/step - loss: 1.7269 - accuracy: 0.2375 - val_loss: 1.7456 - val_accuracy: 0.2268\n",
      "Epoch 6/25\n",
      "17/17 [==============================] - 0s 18ms/step - loss: 1.7151 - accuracy: 0.2509 - val_loss: 1.7345 - val_accuracy: 0.2366\n",
      "Epoch 7/25\n",
      "17/17 [==============================] - 0s 20ms/step - loss: 1.6805 - accuracy: 0.2845 - val_loss: 1.7231 - val_accuracy: 0.2439\n",
      "Epoch 8/25\n",
      "17/17 [==============================] - 0s 20ms/step - loss: 1.6525 - accuracy: 0.2827 - val_loss: 1.7261 - val_accuracy: 0.2293\n",
      "Epoch 9/25\n",
      "17/17 [==============================] - 0s 20ms/step - loss: 1.6376 - accuracy: 0.2949 - val_loss: 1.7435 - val_accuracy: 0.2195\n",
      "Epoch 10/25\n",
      "17/17 [==============================] - 0s 20ms/step - loss: 1.5716 - accuracy: 0.3260 - val_loss: 1.8113 - val_accuracy: 0.2463\n",
      "Epoch 11/25\n",
      "17/17 [==============================] - 0s 20ms/step - loss: 1.5301 - accuracy: 0.3437 - val_loss: 1.8312 - val_accuracy: 0.2146\n",
      "Epoch 12/25\n",
      "17/17 [==============================] - 0s 20ms/step - loss: 1.4391 - accuracy: 0.3828 - val_loss: 1.9788 - val_accuracy: 0.2439\n",
      "Epoch 13/25\n",
      "17/17 [==============================] - 0s 19ms/step - loss: 1.3472 - accuracy: 0.4206 - val_loss: 2.0142 - val_accuracy: 0.2317\n",
      "Epoch 14/25\n",
      "17/17 [==============================] - 0s 21ms/step - loss: 1.3082 - accuracy: 0.4487 - val_loss: 2.1164 - val_accuracy: 0.2293\n",
      "Epoch 15/25\n",
      "16/17 [===========================>..] - ETA: 0s - loss: 1.2341 - accuracy: 0.4762\n",
      "Epoch 00015: ReduceLROnPlateau reducing learning rate to 0.0005000000237487257.\n",
      "17/17 [==============================] - 0s 23ms/step - loss: 1.2378 - accuracy: 0.4731 - val_loss: 2.1371 - val_accuracy: 0.2146\n",
      "Training Complete\n"
     ]
    }
   ],
   "source": [
    "# Training model\n",
    "history = model.fit(train_data, \n",
    "                    train_labels, \n",
    "                    epochs=25, \n",
    "                    batch_size=100, \n",
    "                    validation_split=0.2,\n",
    "                    callbacks=CALLBACKS)\n",
    "\n",
    "print(\"Training Complete\")"
   ]
  },
  {
   "cell_type": "code",
   "execution_count": 15,
   "metadata": {
    "colab": {
     "base_uri": "https://localhost:8080/",
     "height": 573
    },
    "executionInfo": {
     "elapsed": 961,
     "status": "ok",
     "timestamp": 1605108097143,
     "user": {
      "displayName": "LEON ZHANG",
      "photoUrl": "",
      "userId": "18112728590883338726"
     },
     "user_tz": 300
    },
    "id": "exAtMm1_7D5k",
    "outputId": "edf6f89a-1bf1-40d9-ae49-4a88a0a0122f"
   },
   "outputs": [
    {
     "data": {
      "image/png": "[encoded data removed]",
      "text/plain": [
       "<Figure size 432x288 with 1 Axes>"
      ]
     },
     "metadata": {
      "needs_background": "light",
      "tags": []
     },
     "output_type": "display_data"
    },
    {
     "data": {
      "image/png": "[encoded data removed]",
      "text/plain": [
       "<Figure size 432x288 with 1 Axes>"
      ]
     },
     "metadata": {
      "needs_background": "light",
      "tags": []
     },
     "output_type": "display_data"
    }
   ],
   "source": [
    "# Validate model performance\n",
    "plt.plot(history.history['accuracy'])\n",
    "plt.plot(history.history['val_accuracy'])\n",
    "plt.title('Model accuracy')\n",
    "plt.ylabel('Accuracy')\n",
    "plt.xlabel('Epoch')\n",
    "plt.legend(['Train', 'Validation'], loc='upper left')\n",
    "plt.show()\n",
    "\n",
    "plt.plot(history.history['loss'])\n",
    "plt.plot(history.history['val_loss'])\n",
    "plt.title('Model loss')\n",
    "plt.ylabel('Loss')\n",
    "plt.xlabel('Epoch')\n",
    "plt.legend(['Train', 'Validation'], loc='upper right')\n",
    "plt.show()"
   ]
  },
  {
   "cell_type": "code",
   "execution_count": null,
   "metadata": {
    "id": "KQG3irEDDi6s"
   },
   "outputs": [],
   "source": [
    "y_pred_test = model.predict(test_data)"
   ]
  },
  {
   "cell_type": "code",
   "execution_count": null,
   "metadata": {
    "colab": {
     "base_uri": "https://localhost:8080/"
    },
    "executionInfo": {
     "elapsed": 573,
     "status": "ok",
     "timestamp": 1604861147459,
     "user": {
      "displayName": "LEON ZHANG",
      "photoUrl": "",
      "userId": "18112728590883338726"
     },
     "user_tz": 300
    },
    "id": "39xScos9D7fb",
    "outputId": "81c7d600-cf53-4cef-c67a-a5c8af79af2f"
   },
   "outputs": [
    {
     "data": {
      "text/plain": [
       "array([[0.1559041 , 0.29361266, 0.14608341, 0.15105943, 0.09390116,\n",
       "        0.15943927],\n",
       "       [0.13135526, 0.06951997, 0.3173992 , 0.28358632, 0.03855009,\n",
       "        0.15958917],\n",
       "       [0.13402109, 0.20634541, 0.18909945, 0.23455974, 0.04834367,\n",
       "        0.18763068],\n",
       "       ...,\n",
       "       [0.18275051, 0.14731263, 0.22274174, 0.17383856, 0.12226007,\n",
       "        0.15109654],\n",
       "       [0.1458977 , 0.30170774, 0.14284465, 0.1634034 , 0.07812826,\n",
       "        0.1680182 ],\n",
       "       [0.20057112, 0.12383425, 0.15902393, 0.09226951, 0.3189164 ,\n",
       "        0.10538482]], dtype=float32)"
      ]
     },
     "execution_count": 303,
     "metadata": {
      "tags": []
     },
     "output_type": "execute_result"
    }
   ],
   "source": [
    "y_pred_test"
   ]
  },
  {
   "cell_type": "code",
   "execution_count": null,
   "metadata": {
    "colab": {
     "base_uri": "https://localhost:8080/"
    },
    "executionInfo": {
     "elapsed": 376,
     "status": "ok",
     "timestamp": 1604861152942,
     "user": {
      "displayName": "LEON ZHANG",
      "photoUrl": "",
      "userId": "18112728590883338726"
     },
     "user_tz": 300
    },
    "id": "0IvDWjCbEApw",
    "outputId": "0a2e7aef-49b4-4dff-9594-7abc0586468d"
   },
   "outputs": [
    {
     "data": {
      "text/plain": [
       "array([[0., 0., 0., 0., 0., 1.],\n",
       "       [0., 0., 0., 0., 0., 1.],\n",
       "       [0., 0., 1., 0., 0., 0.],\n",
       "       ...,\n",
       "       [0., 0., 1., 0., 0., 0.],\n",
       "       [0., 1., 0., 0., 0., 0.],\n",
       "       [0., 0., 0., 0., 1., 0.]], dtype=float32)"
      ]
     },
     "execution_count": 304,
     "metadata": {
      "tags": []
     },
     "output_type": "execute_result"
    }
   ],
   "source": [
    "test_labels"
   ]
  },
  {
   "cell_type": "code",
   "execution_count": null,
   "metadata": {
    "id": "v0K_iDw0SsQX"
   },
   "outputs": [],
   "source": []
  }
 ],
 "metadata": {
  "accelerator": "GPU",
  "colab": {
   "collapsed_sections": [],
   "name": "FN_2.0.ipynb",
   "provenance": []
  },
  "kernelspec": {
   "display_name": "Python 3",
   "language": "python",
   "name": "python3"
  },
  "language_info": {
   "codemirror_mode": {
    "name": "ipython",
    "version": 3
   },
   "file_extension": ".py",
   "mimetype": "text/x-python",
   "name": "python",
   "nbconvert_exporter": "python",
   "pygments_lexer": "ipython3",
   "version": "3.8.5"
  }
 },
 "nbformat": 4,
 "nbformat_minor": 4
}
